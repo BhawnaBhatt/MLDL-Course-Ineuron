{
 "cells": [
  {
   "cell_type": "markdown",
   "metadata": {},
   "source": [
    "### Write a function so that the columns of the output matrix are powers of the input vector.\n",
    "#### The order of the powers is determined by the increasing boolean argument. Specifically, when increasing is False, the i-th output column is the input vector raised element-wise to the power of N - i - 1.\n",
    "#### HINT: Such a matrix with a geometric progression in each row is named for Alexandre\u0002Theophile Vandermonde."
   ]
  },
  {
   "cell_type": "code",
   "execution_count": 8,
   "metadata": {},
   "outputs": [
    {
     "name": "stdout",
     "output_type": "stream",
     "text": [
      "Please enter the input vector(values separated by spaces 2 3 4 5 6\n",
      "\n",
      "Please enter the column dimension you would like the matrix to have 6\n",
      "\n",
      "Please enter YES if you need matrix power in increaing order otherwise NO YES\n",
      "\n",
      "The Vandermonde Matrix for input  [2 3 4 5 6] is  \n",
      " [[   1.    2.    4.    8.   16.   32.]\n",
      " [   1.    3.    9.   27.   81.  243.]\n",
      " [   1.    4.   16.   64.  256. 1024.]\n",
      " [   1.    5.   25.  125.  625. 3125.]\n",
      " [   1.    6.   36.  216. 1296. 7776.]]\n"
     ]
    }
   ],
   "source": [
    "import numpy as np\n",
    "np.set_printoptions(suppress=True)\n",
    "\n",
    "# Accept the input vector\n",
    "try:\n",
    "    in_vector = np.fromstring(input('Please enter the input vector(values separated by spaces '),dtype=int,sep=' ')\n",
    "    in_dim = int(input(\"\\nPlease enter the column dimension you would like the matrix to have \"))\n",
    "    flag = input('\\nPlease enter YES if you need matrix power in increaing order otherwise NO ')\n",
    "except Exception as e:\n",
    "    print(e)\n",
    "    \n",
    "bflag = 99\n",
    "\n",
    "while not((bflag == 1) or (bflag == 0)):\n",
    "    if flag == 'YES':\n",
    "        bflag = 1\n",
    "    elif flag == 'NO':\n",
    "        bflag = 0\n",
    "    else:\n",
    "        flag = input('\\nPlease enter YES or NO only ')\n",
    "    \n",
    "# Initialize VandermondeMatrix matrix\n",
    "\n",
    "X = np.ones([in_vector.shape[0],in_dim])\n",
    "\n",
    "# perform operation on input  vector and replace the column \n",
    "for i in range(in_dim):\n",
    "    X[:,i]= in_vector ** i\n",
    "\n",
    "X = X\n",
    "\n",
    "if bflag == 1:\n",
    "    print('\\nThe Vandermonde Matrix for input ',in_vector,'is ','\\n', X)\n",
    "else:\n",
    "    print('\\nThe Vandermonde Matrix for input ',in_vector,'is ','\\n', np.flip(X,axis=1))"
   ]
  },
  {
   "cell_type": "markdown",
   "metadata": {},
   "source": [
    "\n",
    "### Problem Statement 2:\n",
    "### Given a sequence of n values x1, x2, ..., xn and a window size k>0, the k-th moving average of the given sequence is defined as follows:\n",
    "### The moving average sequence has n-k+1 elements as shown below.\n",
    "### The moving averages with k=4 of a ten-value sequence (n=10) is shown below\n",
    "#### i 1 2 3 4 5 6 7 8 9 10\n",
    "#### ===== == == == == == == == == == ==\n",
    "#### Input 10 20 30 40 50 60 70 80 90 100 \n",
    "#### y1 25 = (10+20+30+40)/4\n",
    "#### y2 35 = (20+30+40+50)/4\n",
    "#### y3 45 = (30+40+50+60)/4\n",
    "#### y4 55 = (40+50+60+70)/4\n",
    "#### y5 65 = (50+60+70+80)/4\n",
    "#### y6 75 = (60+70+80+90)/4\n",
    "#### y7 85 = (70+80+90+100)/4\n",
    "\n",
    "### Thus, the moving average sequence has n-k+1=10-4+1=7 values"
   ]
  },
  {
   "cell_type": "code",
   "execution_count": 1,
   "metadata": {},
   "outputs": [
    {
     "name": "stdout",
     "output_type": "stream",
     "text": [
      "Please enter the input array(values separated by spaces 10 20 30 40 50 60 70 80 90 100\n",
      "Please enter the window size 4\n",
      "\n",
      "Moving average  1 is 25.0\n",
      "\n",
      "Moving average  2 is 35.0\n",
      "\n",
      "Moving average  3 is 45.0\n",
      "\n",
      "Moving average  4 is 55.0\n",
      "\n",
      "Moving average  5 is 65.0\n",
      "\n",
      "Moving average  6 is 75.0\n",
      "\n",
      "Moving average  7 is 85.0\n"
     ]
    }
   ],
   "source": [
    "import numpy as np\n",
    "\n",
    "# Accept the input ARRAY\n",
    "\n",
    "try:\n",
    "    in_array = np.fromstring(input('Please enter the input array(values separated by spaces '),dtype=int,sep=' ')\n",
    "    win_size = int(input(\"Please enter the window size \"))\n",
    "except Exception as e:\n",
    "    print(e)\n",
    "\n",
    "len_seq = len(in_array)-win_size +1\n",
    "\n",
    "for i in range(len_seq):\n",
    "    mov_ave = 0\n",
    "    for j in range(i,i+win_size):\n",
    "        mov_ave += in_array[j]\n",
    "    mov_ave = mov_ave/win_size\n",
    "        \n",
    "    print('\\nMoving average ',i+1,'is',mov_ave)\n"
   ]
  }
 ],
 "metadata": {
  "kernelspec": {
   "display_name": "Python 3",
   "language": "python",
   "name": "python3"
  },
  "language_info": {
   "codemirror_mode": {
    "name": "ipython",
    "version": 3
   },
   "file_extension": ".py",
   "mimetype": "text/x-python",
   "name": "python",
   "nbconvert_exporter": "python",
   "pygments_lexer": "ipython3",
   "version": "3.8.5"
  }
 },
 "nbformat": 4,
 "nbformat_minor": 4
}
