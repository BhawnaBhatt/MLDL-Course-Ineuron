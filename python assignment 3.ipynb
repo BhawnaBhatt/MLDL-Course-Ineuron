{
 "cells": [
  {
   "cell_type": "markdown",
   "metadata": {},
   "source": [
    "#### 1.1 Write a Python Program to implement your own myreduce() function which works exactly\n",
    "#### like Python's built-in function reduce()"
   ]
  },
  {
   "cell_type": "code",
   "execution_count": 10,
   "metadata": {},
   "outputs": [
    {
     "name": "stdout",
     "output_type": "stream",
     "text": [
      "myreduce() with list  56\n",
      "myreduce() with tuple  56\n",
      "myreduce() with dictionary  56\n"
     ]
    }
   ],
   "source": [
    "def myreduce(fn,seq,init1 = None):\n",
    "    try:\n",
    "        if (type(seq) == list) or (type(seq) == tuple):\n",
    "            if init1 == None:\n",
    "                result = seq[0]\n",
    "            else:\n",
    "                result = init1\n",
    "            \n",
    "            for index,element in enumerate(seq):\n",
    "                if index < len(seq)-1:\n",
    "                    result = fn(result,seq[index+1])\n",
    "                    \n",
    "            return result\n",
    "        elif (type(seq) == dict):\n",
    "            \n",
    "            new_list = list(seq.values())\n",
    "            \n",
    "            if init1 == None:\n",
    "                result = seq[0]\n",
    "            else:\n",
    "                result = init1\n",
    "            \n",
    "            \n",
    "            for index,element in enumerate(new_list):\n",
    "                if index < len(new_list)-1:\n",
    "                    result = fn(result,new_list[index+1])# mapping achieved through recursion\n",
    "            return result\n",
    "            \n",
    "    except Exception as e:\n",
    "        print(e)\n",
    "\n",
    "\n",
    "#Testing the Map function\n",
    "\n",
    "lista= [14,3,13,10,6,14]\n",
    "tuplea= (14,3,13,10,6,14)\n",
    "dicta = {1:14,2:3,3:13,4:10,5:6,6:14}\n",
    "\n",
    "\n",
    "print('myreduce() with list ',myreduce(lambda a, b: a +b ,lista,10))\n",
    "print('myreduce() with tuple ',myreduce(lambda a, b: a +b ,tuplea,10))\n",
    "print('myreduce() with dictionary ',myreduce(lambda a, b: a +b,dicta,10))\n",
    "        "
   ]
  },
  {
   "cell_type": "markdown",
   "metadata": {},
   "source": [
    "#### 1.2 Write a Python program to implement your own myfilter() function which works exactly\n",
    "#### like Python's built-in function filter()\n"
   ]
  },
  {
   "cell_type": "code",
   "execution_count": 11,
   "metadata": {},
   "outputs": [
    {
     "name": "stdout",
     "output_type": "stream",
     "text": [
      "myfilter() with function as None and list  [14, 3, 6, 14]\n",
      "myfilter() with function as None and tuple  [14, 3, 13, 6, 14]\n",
      "myfilter() with function as None and dictionary  {1: 14, 3: 13, 4: 10, 5: 6, 0: 14} \n",
      "\n",
      "myfilter() with function as Odd and list  [3]\n",
      "myfilter() with function as Odd and tuple  [3, 13]\n",
      "myfilter() with function as Odd and dictionary  {3: 13}\n"
     ]
    }
   ],
   "source": [
    "def myfilter(fn,seq):\n",
    "    try:\n",
    "        if fn == None:\n",
    "            \n",
    "            if (type(seq) == list) or (type(seq) == tuple):\n",
    "                return [i for i in seq if i]\n",
    "            elif (type(seq) == dict):\n",
    "                return {i:e for (i,e) in seq.items() if e}\n",
    "                \n",
    "        else:\n",
    "            if (type(seq) == list) or (type(seq) == tuple):\n",
    "                return [i for i in seq if fn(i)]\n",
    "        \n",
    "            elif (type(seq) == dict):\n",
    "                return {i:e for (i,e) in seq.items() if fn(e)}\n",
    "                \n",
    "                \n",
    "                        \n",
    "                   \n",
    "            \n",
    "    except Exception as e:\n",
    "        print(e)\n",
    "    \n",
    "lista= [14,3,0,0,6,14]\n",
    "tuplea= (14,3,13,0,6,14)\n",
    "dicta = {1:14,2:0,3:13,4:10,5:6,0:14}\n",
    "\n",
    "\n",
    "print('myfilter() with function as None and list ',myfilter(None,lista))\n",
    "print('myfilter() with function as None and tuple ',myfilter(None,tuplea))\n",
    "print('myfilter() with function as None and dictionary ',myfilter(None,dicta),'\\n')\n",
    "\n",
    "print('myfilter() with function as Odd and list ',myfilter(lambda a : a%2 == 1,lista))\n",
    "print('myfilter() with function as Odd and tuple ',myfilter(lambda a : a%2 == 1,tuplea))\n",
    "print('myfilter() with function as Odd and dictionary ',myfilter(lambda a : a%2 == 1,dicta))\n"
   ]
  },
  {
   "cell_type": "markdown",
   "metadata": {},
   "source": [
    "#### 2. Implement List comprehensions to produce the following lists.\n",
    "#### Write List comprehensions to produce the following Lists\n"
   ]
  },
  {
   "cell_type": "markdown",
   "metadata": {},
   "source": [
    "#### ['x', 'xx', 'xxx', 'xxxx', 'y', 'yy', 'yyy', 'yyyy', 'z', 'zz', 'zzz', 'zzzz']"
   ]
  },
  {
   "cell_type": "code",
   "execution_count": 12,
   "metadata": {},
   "outputs": [
    {
     "data": {
      "text/plain": [
       "['x', 'xx', 'xxx', 'xxxx', 'y', 'yy', 'yyy', 'yyyy', 'z', 'zz', 'zzz', 'zzzz']"
      ]
     },
     "execution_count": 12,
     "metadata": {},
     "output_type": "execute_result"
    }
   ],
   "source": [
    "[a*x for a in ('x','y','z') for x in range(1,5)]"
   ]
  },
  {
   "cell_type": "markdown",
   "metadata": {},
   "source": [
    "#### ['x', 'y', 'z', 'xx', 'yy', 'zz', 'xxx', 'yyy', 'zzz', 'xxxx', 'yyyy', 'zzzz']"
   ]
  },
  {
   "cell_type": "code",
   "execution_count": 13,
   "metadata": {},
   "outputs": [
    {
     "data": {
      "text/plain": [
       "['x', 'y', 'z', 'xx', 'yy', 'zz', 'xxx', 'yyy', 'zzz', 'xxxx', 'yyyy', 'zzzz']"
      ]
     },
     "execution_count": 13,
     "metadata": {},
     "output_type": "execute_result"
    }
   ],
   "source": [
    "[a*x  for x in range(1,5) for a in ('x','y','z')]"
   ]
  },
  {
   "cell_type": "markdown",
   "metadata": {},
   "source": [
    "\n",
    "#### [[2], [3], [4], [3], [4], [5], [4], [5], [6]] "
   ]
  },
  {
   "cell_type": "code",
   "execution_count": 14,
   "metadata": {},
   "outputs": [
    {
     "data": {
      "text/plain": [
       "[[2], [3], [4], [3], [4], [5], [4], [5], [6]]"
      ]
     },
     "execution_count": 14,
     "metadata": {},
     "output_type": "execute_result"
    }
   ],
   "source": [
    "[[i] for j in range(2,5) for i in range(j,j+3)]"
   ]
  },
  {
   "cell_type": "markdown",
   "metadata": {},
   "source": [
    "#### [[2, 3, 4, 5], [3, 4, 5, 6],[4, 5, 6, 7], [5, 6, 7, 8]]"
   ]
  },
  {
   "cell_type": "code",
   "execution_count": 15,
   "metadata": {},
   "outputs": [
    {
     "data": {
      "text/plain": [
       "[[2, 3, 4, 5], [3, 4, 5, 6], [4, 5, 6, 7], [5, 6, 7, 8]]"
      ]
     },
     "execution_count": 15,
     "metadata": {},
     "output_type": "execute_result"
    }
   ],
   "source": [
    "[[i for i in range(j,j+4)] for j in range(2,6)]"
   ]
  },
  {
   "cell_type": "markdown",
   "metadata": {},
   "source": [
    "#### [(1, 1), (2, 1), (3, 1), (1, 2), (2, 2), (3, 2), (1, 3), (2, 3), (3, 3)]"
   ]
  },
  {
   "cell_type": "code",
   "execution_count": 16,
   "metadata": {},
   "outputs": [
    {
     "data": {
      "text/plain": [
       "[(1, 1), (2, 1), (3, 1), (1, 2), (2, 2), (3, 2), (1, 3), (2, 3), (3, 3)]"
      ]
     },
     "execution_count": 16,
     "metadata": {},
     "output_type": "execute_result"
    }
   ],
   "source": [
    "[(j,i) for i in [1,2,3] for j in [1,2,3]]"
   ]
  },
  {
   "cell_type": "code",
   "execution_count": null,
   "metadata": {},
   "outputs": [],
   "source": []
  }
 ],
 "metadata": {
  "kernelspec": {
   "display_name": "Python 3",
   "language": "python",
   "name": "python3"
  },
  "language_info": {
   "codemirror_mode": {
    "name": "ipython",
    "version": 3
   },
   "file_extension": ".py",
   "mimetype": "text/x-python",
   "name": "python",
   "nbconvert_exporter": "python",
   "pygments_lexer": "ipython3",
   "version": "3.8.5"
  }
 },
 "nbformat": 4,
 "nbformat_minor": 4
}
