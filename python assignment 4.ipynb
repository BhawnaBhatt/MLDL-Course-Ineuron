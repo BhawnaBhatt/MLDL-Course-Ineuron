{
 "cells": [
  {
   "cell_type": "markdown",
   "metadata": {},
   "source": [
    "#### 1.1 Write a Python Program(with class concepts) to find the area of the triangle using the below formula.\n",
    "#### area = (s*(s-a)*(s-b)*(s-c)) ** 0.5\n",
    "#### Function to take the length of the sides of triangle from user should be defined in the parent class and function to calculate the area should be defined in subclass."
   ]
  },
  {
   "cell_type": "code",
   "execution_count": 1,
   "metadata": {},
   "outputs": [
    {
     "name": "stdout",
     "output_type": "stream",
     "text": [
      "Enter three value: 3 4 5 6\n",
      "Please enter 3 sides only.Lets try again\n",
      "Enter three value: 3 4 5\n",
      "Area of the triangle with sides 3,4,5 is 9.0\n"
     ]
    }
   ],
   "source": [
    "class BaseTriangle:\n",
    "    \n",
    "    def __init__(self,a,b,c):\n",
    "        self.a = a\n",
    "        self.b = b\n",
    "        self.c = c\n",
    "\n",
    "class AreaTriangle(BaseTriangle):\n",
    "        \n",
    "      \n",
    "    def cal_area(self):\n",
    "        self.s =(self.a+self.b+self.c)/2 \n",
    "        self.area = (self.s * (self.s - self.a)*(self.s - self.c)*(self.s - self.c))/2\n",
    "        print('Area of the triangle with sides {},{},{} is {}'.format(self.a,self.b,self.c,self.area))\n",
    "        \n",
    "\n",
    "count = 3\n",
    "while count > 0:\n",
    "    try:\n",
    "        x,y,z = [int(x) for x in input(\"Enter three value: \").split()]\n",
    "        \n",
    "    except:\n",
    "        count -=1\n",
    "        \n",
    "        if count == 0:\n",
    "            print(\"That's it. No Area for you\")\n",
    "        else:\n",
    "            print(\"Please enter 3 sides only.Lets try again\")\n",
    "    else:\n",
    "        count = 0\n",
    "            \n",
    "\n",
    "area_of_tr = AreaTriangle(x,y,z).cal_area()\n"
   ]
  },
  {
   "cell_type": "markdown",
   "metadata": {},
   "source": [
    "#### 1.2 Write a function filter_long_words() that takes a list of words and an integer n and returns the list of words that are longer than n."
   ]
  },
  {
   "cell_type": "code",
   "execution_count": 2,
   "metadata": {},
   "outputs": [
    {
     "name": "stdout",
     "output_type": "stream",
     "text": [
      "Please enter a list of words seperated by space agra lucknow jamshedpur bangalore delhi\n",
      "Please enter the number so that we can find words which have more characters than that number 5\n",
      "['lucknow', 'jamshedpur', 'bangalore']\n"
     ]
    }
   ],
   "source": [
    "def filter_long_words():\n",
    "    wordlist = input('Please enter a list of words seperated by space ').split(' ')\n",
    "    num = int(input('Please enter the number so that we can find words which have more characters than that number '))\n",
    "    \n",
    "    new_list = []\n",
    "    for word in wordlist:\n",
    "        if len(word) > num:\n",
    "            new_list.append(word)\n",
    "    return(new_list)\n",
    "\n",
    "print(filter_long_words())"
   ]
  },
  {
   "cell_type": "markdown",
   "metadata": {},
   "source": [
    "#### 2.1 Write a Python program using function concept that maps list of words into a list of integers representing the lengths of the corresponding words.\n",
    "\n",
    "#### Hint: If a list [ ab,cde,erty] is passed on to the python function output should come as [2,3,4] Here 2,3 and 4 are the lengths of the words in the list."
   ]
  },
  {
   "cell_type": "code",
   "execution_count": 3,
   "metadata": {},
   "outputs": [
    {
     "name": "stdout",
     "output_type": "stream",
     "text": [
      "Please enter a list of words seperated by space ab cde erty\n",
      "[2, 3, 4]\n"
     ]
    }
   ],
   "source": [
    "def find_word_length():\n",
    "    word_list = input('Please enter a list of words seperated by space ').split(' ')\n",
    "    \n",
    "    new_list = []\n",
    "    for word in word_list:\n",
    "        new_list.append(len(word))\n",
    "    return(new_list)\n",
    "\n",
    "print(find_word_length())"
   ]
  },
  {
   "cell_type": "markdown",
   "metadata": {},
   "source": [
    "#### 2.2 Write a Python function which takes a character (i.e. a string of length 1) and returns True if it is a vowel, False otherwise"
   ]
  },
  {
   "cell_type": "code",
   "execution_count": 4,
   "metadata": {},
   "outputs": [
    {
     "name": "stdout",
     "output_type": "stream",
     "text": [
      "Please enter a character agra\n",
      "Please enter a character only. 2 Chances only\n",
      "Please enter a character u\n",
      "True\n"
     ]
    }
   ],
   "source": [
    "def find_vowel():\n",
    "    try:\n",
    "        l = 3\n",
    "        while l > 0:\n",
    "            charac = input('Please enter a character ')\n",
    "            if len(charac) > 1:\n",
    "                l -= 1\n",
    "                print('Please enter a character only. %s Chances only' % l)\n",
    "            else:\n",
    "                l = 0\n",
    "                \n",
    "    except:\n",
    "        print(\"Something happened\")\n",
    "    \n",
    "    \n",
    "    vowel_list = ['a','e','i','o','u']\n",
    "    \n",
    "    if charac in vowel_list:\n",
    "        return True\n",
    "    else:\n",
    "        return False\n",
    "\n",
    "print(find_vowel())"
   ]
  },
  {
   "cell_type": "code",
   "execution_count": null,
   "metadata": {},
   "outputs": [],
   "source": []
  }
 ],
 "metadata": {
  "kernelspec": {
   "display_name": "Python 3",
   "language": "python",
   "name": "python3"
  },
  "language_info": {
   "codemirror_mode": {
    "name": "ipython",
    "version": 3
   },
   "file_extension": ".py",
   "mimetype": "text/x-python",
   "name": "python",
   "nbconvert_exporter": "python",
   "pygments_lexer": "ipython3",
   "version": "3.8.5"
  }
 },
 "nbformat": 4,
 "nbformat_minor": 4
}
